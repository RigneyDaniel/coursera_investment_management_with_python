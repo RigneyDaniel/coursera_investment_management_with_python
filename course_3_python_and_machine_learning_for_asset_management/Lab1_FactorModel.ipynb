{
 "cells": [
  {
   "cell_type": "markdown",
   "metadata": {},
   "source": [
    "# Module 2: Factor Models\n",
    "\n",
    "This module allows coursera course participants to create their own factor models."
   ]
  },
  {
   "cell_type": "markdown",
   "metadata": {},
   "source": [
    "## Table of Contents:\n",
    "&nbsp;&nbsp;0. [Instructions](#0)\n",
    "\n",
    "&nbsp;&nbsp;1. [Data and Parameter Setup](#1)\n",
    "\n",
    "&nbsp;&nbsp;&nbsp;1.0 [User Defined Parameters](#1.0)\n",
    "\n",
    "&nbsp;&nbsp;&nbsp;1.1 [Instructor Defined Parameters](#1.1)\n",
    "\n",
    "&nbsp;&nbsp;&nbsp;1.2 [Checking Parameter Definitions](#1.2)\n",
    "\n",
    "&nbsp;&nbsp;2. [User Defined Factor Models](#2)\n",
    "\n",
    "&nbsp;&nbsp;&nbsp;2.0 [Cumulative Asset Return](#2.0)\n",
    "\n",
    "&nbsp;&nbsp;&nbsp;2.1 [OLS Model](#2.1)\n",
    "\n",
    "&nbsp;&nbsp;&nbsp;2.2 [CV LASSO Model](#2.2)\n",
    "\n",
    "&nbsp;&nbsp;&nbsp;2.3 [CV Elastic Net Model](#2.3)\n",
    "\n",
    "&nbsp;&nbsp;&nbsp;2.4 [Best Subset Regression Model](#2.4)\n",
    "\n"
   ]
  },
  {
   "cell_type": "markdown",
   "metadata": {},
   "source": [
    "# 0 Instructions <a class=\"anchor\" id=\"0.\"></a>\n",
    "\n",
    "This notebook allows course participants to compare and constract different factor models.  This notebook runs OLS, LASSO, Elastic Net, and Best Subset Regression.  Feel free to compare and contrast any results you get in this section to the results in the supplementary materials.\n",
    "\n",
    "To run this notebook, change the variables in section 1.0, then click Kernel -> Restart and Run All.  The notebook should take around 15-25 second to run.  In order to answer the Lab questions, the course participant must change a few of the parameters in this notebook.  Here we list the parameters and give their definitions.\n",
    "\n",
    "\n",
    "## Change these parameters for Lab 1\n",
    "\n",
    "  * assetNameUser: string, names the asset you wish to model\n",
    "  * dateNameUser: defines the date column in your data set\n",
    "  * startDateUser: defines the start date for your analysis\n",
    "  * endDateUser: defines the end date for your analysis\n",
    "  * maxVarUser: int, defines the number of allowed non-zero factor loadings in the best subset regression.\n",
    "  \n",
    "Here are variables the user should not change unless they are running their own independent factor analysis.\n",
    "\n",
    "## Other Parameters: Do not change unless you are running your own analysis\n",
    "\n",
    "  * dataPathUser: string, relative path to the data\n",
    "  * factorNameUser: list, defines the dependent variable (or factors)\n",
    "  * numL1RatioUser, numL2RatioUser: int, defines the number of L1/L2 penalty values to try in elastic net cross validation\n",
    "\n",
    "**IF THE NOTEBOOK DOES NOT RUN TO COMPLETION** Check the variables in section 1.0 have been defined correctly."
   ]
  },
  {
   "cell_type": "markdown",
   "metadata": {},
   "source": [
    "#  1 Data and Environment Setup <a class=\"anchor\" id=\"1\"></a>\n",
    "For the first step, let's import necessary packages and define our functions:\n"
   ]
  },
  {
   "cell_type": "code",
   "execution_count": 1,
   "metadata": {},
   "outputs": [],
   "source": [
    "#import all the necessary packages\n",
    "import numpy as np #for numerical array data\n",
    "import pandas as pd #for tabular data\n",
    "import matplotlib.pyplot as plt #for plotting purposes\n",
    "\n",
    "%matplotlib inline\n",
    "plt.rcParams['axes.labelsize'] = 14\n",
    "plt.rcParams['xtick.labelsize'] = 12\n",
    "plt.rcParams['ytick.labelsize'] = 12\n",
    "\n",
    "import importlib as imp\n",
    "\n",
    "import FactorModelLib as fm #the code that wraps around the sikitlearn implementations\n",
    "\n",
    "import warnings\n",
    "warnings.filterwarnings('ignore')"
   ]
  },
  {
   "cell_type": "markdown",
   "metadata": {},
   "source": [
    "## 1.0: User Defined Parameters <a class=\"anchor\" id=\"1.0\"></a>\n",
    "In this section, you define the parameters of your analysis"
   ]
  },
  {
   "cell_type": "code",
   "execution_count": 2,
   "metadata": {},
   "outputs": [],
   "source": [
    "#User Analysis Section.  Change the variables in this section to run the analysis you want\n",
    "\n",
    "#assetNameUser: List, defines the dependent variable, the factor to be explained\n",
    "assetNameUser = 'Commodities'\n",
    "\n",
    "#Start and End Dates for the Analysis: Start and End Date for the analysis.\n",
    "startDateUser = '2000-01-01'\n",
    "endDateUser = '2018-09-01'\n",
    "\n",
    "#maxVarUser: Integer, defines the number of non-zero coeficients to allow in best subset regression\n",
    "maxVarsUser = 3"
   ]
  },
  {
   "cell_type": "markdown",
   "metadata": {},
   "source": [
    "## 1.1: Instructor Defined Parameters <a class=\"anchor\" id=\"1.0\"></a>\n",
    "In this section, we define other parameters related to running the notebook.  Note, the user should not change these parameters unless they are running analysis unrelated to the course."
   ]
  },
  {
   "cell_type": "code",
   "execution_count": 3,
   "metadata": {},
   "outputs": [],
   "source": [
    "#dataPathUser: Path to User Defined Data\n",
    "dataPathUser = 'Data/Data_Oct2018_v2.csv'\n",
    "\n",
    "#dateName: string, names the date column in the data set.  DO NOT CHANGE\n",
    "dateNameUser = 'Date'\n",
    "\n",
    "#factorNameUser: List, defines the factors to use in your factor model\n",
    "factorNameUser= ['World Equities','US Treasuries','Bond Risk Premium','Inflation Protection','Currency Protection']\n",
    "\n",
    "#Elastic Net Parameters: No question requires that you change these parameters.  They define how many labmda value to\n",
    "#try when running the elastic net.  Make these values smaller if you would like the elastic net regression to run faster.\n",
    "numL1RatioUser = 10\n",
    "numLambdasUser = 20"
   ]
  },
  {
   "cell_type": "markdown",
   "metadata": {},
   "source": [
    "## 1.2: Checking Parameter Definitions <a class=\"anchor\" id=\"1.1\"></a>\n",
    "This section checks if the variables have been defined correctly."
   ]
  },
  {
   "cell_type": "code",
   "execution_count": 4,
   "metadata": {},
   "outputs": [],
   "source": [
    "def parseParameters():\n",
    "    #This function parses the parameters to make sure they are correctly defined\n",
    "\n",
    "    #Part 1: Try to load the data\n",
    "    try:\n",
    "        data = pd.read_csv(dataPathUser)\n",
    "    except:\n",
    "        print('Incorrect Data Path: Please change variable dataPathUser')\n",
    "        return 0\n",
    "    #Part 2: Make sure dateNameUser is correctly specified\n",
    "    if(dateNameUser not in list(data.columns)):\n",
    "        print('Incorrect Date Column: Please change variable dateNameUser to ''Date''')\n",
    "        return 0\n",
    "    #Part 3: Make sure factorNameUser is correctly specified\n",
    "    if(not all(factor in list(data.columns) for factor in factorNameUser)):\n",
    "        print('Incorrect Factor List: Make sure all factors in factorNameUser are spelled correctly')\n",
    "        return 0\n",
    "    if(assetNameUser not in list(data.columns)):\n",
    "        print('Incorrect Asset Name: Make sure assetNameUser is correct')\n",
    "        return 0\n",
    "    #Part 4: Make sure startDateUser and endDateUser are correctly specified\n",
    "    data[dateNameUser] = pd.to_datetime(data[dateNameUser])\n",
    "    data = data[(data[dateNameUser] >= startDateUser)\n",
    "                    & (data[dateNameUser] <= endDateUser)]\n",
    "    if(data.shape[0]==0):\n",
    "        print('Incorrect Start and End Date: Make sure startDateUser and endDateUser are correct')\n",
    "        return 0\n",
    "    print('Config File Is Correct, Your Analysis Will Run')\n",
    "    return 1"
   ]
  },
  {
   "cell_type": "code",
   "execution_count": 5,
   "metadata": {},
   "outputs": [
    {
     "name": "stdout",
     "output_type": "stream",
     "text": [
      "Config File Is Correct, Your Analysis Will Run\n"
     ]
    }
   ],
   "source": [
    "correctParams = parseParameters()"
   ]
  },
  {
   "cell_type": "markdown",
   "metadata": {},
   "source": [
    "# 2 User Defined Models <a class=\"anchor\" id=\"2\"></a>\n",
    "This section Runs the Factor Models and Displayes the Output"
   ]
  },
  {
   "cell_type": "code",
   "execution_count": 6,
   "metadata": {},
   "outputs": [],
   "source": [
    "if(correctParams):\n",
    "    dataUser = pd.read_csv(dataPathUser)\n",
    "    dataUser[dateNameUser] = pd.to_datetime(dataUser[dateNameUser])\n",
    "    dataUser = dataUser[(dataUser[dateNameUser] >= startDateUser)\n",
    "                        & (dataUser[dateNameUser] <= endDateUser)]"
   ]
  },
  {
   "cell_type": "markdown",
   "metadata": {},
   "source": [
    "## 2.0 Cumulative Asset Return <a class=\"anchor\" id=\"2.0\"></a>"
   ]
  },
  {
   "cell_type": "code",
   "execution_count": 7,
   "metadata": {},
   "outputs": [
    {
     "data": {
      "image/png": "[encoded data removed]",
      "text/plain": [
       "<Figure size 432x288 with 1 Axes>"
      ]
     },
     "metadata": {
      "needs_background": "light"
     },
     "output_type": "display_data"
    }
   ],
   "source": [
    "if(correctParams):\n",
    "    fm.plot_returns(dataUser, assetNameUser, flag='Total Return')"
   ]
  },
  {
   "cell_type": "markdown",
   "metadata": {},
   "source": [
    "## 2.1 OLS Model <a class=\"anchor\" id=\"2.1\"></a>"
   ]
  },
  {
   "cell_type": "code",
   "execution_count": 8,
   "metadata": {},
   "outputs": [
    {
     "name": "stdout",
     "output_type": "stream",
     "text": [
      "Dependent Variable is Commodities\n",
      "Time period is between January 2000 to September 2018 inclusive   \n",
      "                     Intercept  World Equities  US Treasuries  \\\n",
      "OLS for Commodities   0.003103        0.364591      -0.552562   \n",
      "\n",
      "                     Bond Risk Premium  Inflation Protection  \\\n",
      "OLS for Commodities          -0.226785              1.856147   \n",
      "\n",
      "                     Currency Protection  \n",
      "OLS for Commodities             -0.98636  \n"
     ]
    }
   ],
   "source": [
    "if(correctParams):\n",
    "    optionsUser = fm.create_options()\n",
    "    optionsUser['printLoadings'] = True\n",
    "    optionsUser['nameOfReg'] = 'OLS for ' + str(assetNameUser)\n",
    "    fm.linear_regression(dataUser, assetNameUser, factorNameUser, optionsUser)"
   ]
  },
  {
   "cell_type": "markdown",
   "metadata": {},
   "source": [
    "## 2.2 CV LASSO Model <a class=\"anchor\" id=\"2.2\"></a>"
   ]
  },
  {
   "cell_type": "code",
   "execution_count": 9,
   "metadata": {},
   "outputs": [
    {
     "name": "stdout",
     "output_type": "stream",
     "text": [
      "Dependent Variable is Commodities\n",
      "Time period is between January 2000 to September 2018 inclusive   \n",
      "Best lambda = 0.015151515574242424\n",
      "                          Intercept  World Equities  US Treasuries  \\\n",
      "CV Lasso for Commodities   0.001683        0.348759      -0.274466   \n",
      "\n",
      "                          Bond Risk Premium  Inflation Protection  \\\n",
      "CV Lasso for Commodities               -0.0              1.474027   \n",
      "\n",
      "                          Currency Protection  \n",
      "CV Lasso for Commodities            -0.710531  \n"
     ]
    }
   ],
   "source": [
    "if(correctParams):\n",
    "    optionsUser = fm.create_options_cv_lasso()\n",
    "    optionsUser['printLoadings'] = True\n",
    "    optionsUser['nameOfReg'] = 'CV Lasso for ' + str(assetNameUser)\n",
    "    fm.cross_validated_lasso_regression(dataUser, assetNameUser, factorNameUser, optionsUser)"
   ]
  },
  {
   "cell_type": "markdown",
   "metadata": {},
   "source": [
    "## 2.3 Elastic Net Model <a class=\"anchor\" id=\"2.3\"></a>"
   ]
  },
  {
   "cell_type": "code",
   "execution_count": 10,
   "metadata": {},
   "outputs": [
    {
     "name": "stdout",
     "output_type": "stream",
     "text": [
      "Dependent Variable is Commodities\n",
      "Time period is between January 2000 to September 2018 inclusive   \n",
      "Best lambda1 = 1.3157895163157894e-08\n",
      "Best lambda2 = 0.006578941002631365\n",
      "                                Intercept  World Equities  US Treasuries  \\\n",
      "CV Elastic Net for Commodities    0.00232        0.380276      -0.390498   \n",
      "\n",
      "                                Bond Risk Premium  Inflation Protection  \\\n",
      "CV Elastic Net for Commodities          -0.090563              1.444339   \n",
      "\n",
      "                                Currency Protection  \n",
      "CV Elastic Net for Commodities             -0.79418  \n"
     ]
    }
   ],
   "source": [
    "if(correctParams):\n",
    "    optionsUser = fm.create_options_cv_elastic_net()\n",
    "    optionsUser['printLoadings'] = True\n",
    "    optionsUser['l1Ratio'] = numL1RatioUser\n",
    "    optionsUser['nLambdas'] = numLambdasUser\n",
    "    optionsUser['nameOfReg'] = 'CV Elastic Net for ' + str(assetNameUser)\n",
    "    fm.cross_validated_elastic_net_regression(dataUser, assetNameUser, factorNameUser, optionsUser)"
   ]
  },
  {
   "cell_type": "markdown",
   "metadata": {},
   "source": [
    "## 2.4 Best Subset Regression Model <a class=\"anchor\" id=\"2.4\"></a>"
   ]
  },
  {
   "cell_type": "code",
   "execution_count": 11,
   "metadata": {},
   "outputs": [
    {
     "name": "stdout",
     "output_type": "stream",
     "text": [
      "Dependent Variable is Commodities\n",
      "Time period is between January 2000 to September 2018 inclusive   \n",
      "Max Number of Non-Zero Variables is 3\n",
      "                                          Intercept  World Equities  \\\n",
      "Best 3 Subset Regression for Commodities  -0.000226        0.371822   \n",
      "\n",
      "                                          US Treasuries  Bond Risk Premium  \\\n",
      "Best 3 Subset Regression for Commodities            0.0                0.0   \n",
      "\n",
      "                                          Inflation Protection  \\\n",
      "Best 3 Subset Regression for Commodities              1.704059   \n",
      "\n",
      "                                          Currency Protection  \n",
      "Best 3 Subset Regression for Commodities            -0.794858  \n"
     ]
    }
   ],
   "source": [
    "if(correctParams):\n",
    "    optionsUser = fm.create_options()\n",
    "    optionsUser['printLoadings'] = True\n",
    "    optionsUser['maxVars'] = maxVarsUser\n",
    "    optionsUser['nameOfReg'] = 'Best '+ str(optionsUser['maxVars']) + ' Subset Regression for ' + str(assetNameUser)\n",
    "    fm.best_subset_regression(dataUser, assetNameUser, factorNameUser, optionsUser)"
   ]
  },
  {
   "cell_type": "code",
   "execution_count": null,
   "metadata": {},
   "outputs": [],
   "source": []
  }
 ],
 "metadata": {
  "kernelspec": {
   "display_name": "Python 3",
   "language": "python",
   "name": "python3"
  },
  "language_info": {
   "codemirror_mode": {
    "name": "ipython",
    "version": 3
   },
   "file_extension": ".py",
   "mimetype": "text/x-python",
   "name": "python",
   "nbconvert_exporter": "python",
   "pygments_lexer": "ipython3",
   "version": "3.7.3"
  }
 },
 "nbformat": 4,
 "nbformat_minor": 2
}
