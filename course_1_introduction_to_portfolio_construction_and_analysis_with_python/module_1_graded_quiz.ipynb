{
 "cells": [
  {
   "cell_type": "markdown",
   "metadata": {},
   "source": [
    "## Investment Management with Python and Machine Learning\n",
    "### Course 1 - Introduction to Portfolio Costruction and Analysis with Python\n",
    "#### Module 1 - Graded Quiz"
   ]
  },
  {
   "cell_type": "code",
   "execution_count": 305,
   "metadata": {},
   "outputs": [],
   "source": [
    "import pandas as pd\n",
    "import numpy as np"
   ]
  },
  {
   "cell_type": "code",
   "execution_count": 306,
   "metadata": {},
   "outputs": [],
   "source": [
    "returns = pd.read_csv(\"data/Portfolios_Formed_on_ME_monthly_EW.csv\",\n",
    "                    header=0, index_col=0, parse_dates=True, na_values=-99.99)\n",
    "\n",
    "cols = ['Lo 20', 'Hi 20']\n",
    "returns = returns[cols]\n",
    "returns.columns = ['SmallCap', 'LargeCap']\n",
    "\n",
    "returns = returns / 100\n",
    "\n",
    "returns.index = pd.to_datetime(returns.index, format=\"%Y%m\")\n",
    "returns.index = returns.index.to_period('M')"
   ]
  },
  {
   "cell_type": "code",
   "execution_count": 307,
   "metadata": {},
   "outputs": [
    {
     "data": {
      "text/plain": [
       "<matplotlib.axes._subplots.AxesSubplot at 0x126bcdd86d8>"
      ]
     },
     "execution_count": 307,
     "metadata": {},
     "output_type": "execute_result"
    },
    {
     "data": {
      "image/png": "[encoded data removed]",
      "text/plain": [
       "<Figure size 432x288 with 1 Axes>"
      ]
     },
     "metadata": {
      "needs_background": "light"
     },
     "output_type": "display_data"
    }
   ],
   "source": [
    "returns.plot()"
   ]
  },
  {
   "cell_type": "markdown",
   "metadata": {},
   "source": [
    "1. What was the Annualized Return of the Lo 20 portfolio over the entire period?"
   ]
  },
  {
   "cell_type": "code",
   "execution_count": 308,
   "metadata": {},
   "outputs": [
    {
     "name": "stdout",
     "output_type": "stream",
     "text": [
      "The annualised return for the Small Cap Portfolio over the period is 15.2%\n"
     ]
    }
   ],
   "source": [
    "n_months = returns.shape[0]\n",
    "annualized_return = (returns['SmallCap']+1).prod()**(12/n_months) - 1\n",
    "\n",
    "print('The annualised return for the Small Cap Portfolio over the period is {}%'.format((annualized_return*100).round(2)))"
   ]
  },
  {
   "cell_type": "code",
   "execution_count": 309,
   "metadata": {},
   "outputs": [],
   "source": [
    "q1_ans = (annualized_return*100).round(2)"
   ]
  },
  {
   "cell_type": "markdown",
   "metadata": {},
   "source": [
    "2. What was the Annualized Volatility of the Lo 20 portfolio over the entire period? "
   ]
  },
  {
   "cell_type": "code",
   "execution_count": 310,
   "metadata": {},
   "outputs": [
    {
     "name": "stdout",
     "output_type": "stream",
     "text": [
      "The annualised volatility of the Small Cap Portfolio over the period is 33.67%\n"
     ]
    }
   ],
   "source": [
    "annualized_vol = returns['SmallCap'].std()*np.sqrt(12)\n",
    "\n",
    "print('The annualised volatility of the Small Cap Portfolio over the period is {}%'.format((annualized_vol*100).round(2)))"
   ]
  },
  {
   "cell_type": "code",
   "execution_count": 311,
   "metadata": {},
   "outputs": [],
   "source": [
    "q2_ans = (annualized_vol*100).round(2)"
   ]
  },
  {
   "cell_type": "markdown",
   "metadata": {},
   "source": [
    "3. What was the Annualized Return of the Hi 20 portfolio over the entire period? "
   ]
  },
  {
   "cell_type": "code",
   "execution_count": 312,
   "metadata": {},
   "outputs": [
    {
     "name": "stdout",
     "output_type": "stream",
     "text": [
      "The annualised return for the Large Cap Portfolio over the period is 9.85%\n"
     ]
    }
   ],
   "source": [
    "annualized_return = (returns['LargeCap']+1).prod()**(12/n_months) - 1\n",
    "\n",
    "print('The annualised return for the Large Cap Portfolio over the period is {}%'.format((annualized_return*100).round(2)))"
   ]
  },
  {
   "cell_type": "code",
   "execution_count": 313,
   "metadata": {},
   "outputs": [],
   "source": [
    "q3_ans = (annualized_return*100).round(2)"
   ]
  },
  {
   "cell_type": "markdown",
   "metadata": {},
   "source": [
    "4. What was the Annualized Volatility of the Hi 20 portfolio over the entire period ?"
   ]
  },
  {
   "cell_type": "code",
   "execution_count": 314,
   "metadata": {},
   "outputs": [
    {
     "name": "stdout",
     "output_type": "stream",
     "text": [
      "The annualised volatility of the Large Cap Portfolio over the period is 19.51%\n"
     ]
    }
   ],
   "source": [
    "annualized_vol = returns['LargeCap'].std()*np.sqrt(12)\n",
    "\n",
    "print('The annualised volatility of the Large Cap Portfolio over the period is {}%'.format((annualized_vol*100).round(2)))"
   ]
  },
  {
   "cell_type": "code",
   "execution_count": 315,
   "metadata": {},
   "outputs": [],
   "source": [
    "q4_ans = (annualized_vol*100).round(2)"
   ]
  },
  {
   "cell_type": "markdown",
   "metadata": {},
   "source": [
    "5. What was the Annualized Return of the Lo 20 portfolio over the period 1999 - 2015 (both inclusive)? "
   ]
  },
  {
   "cell_type": "code",
   "execution_count": 316,
   "metadata": {},
   "outputs": [],
   "source": [
    "n_months = returns['SmallCap']['1999':'2015'].shape[0]"
   ]
  },
  {
   "cell_type": "code",
   "execution_count": 317,
   "metadata": {},
   "outputs": [
    {
     "name": "stdout",
     "output_type": "stream",
     "text": [
      "The annualised return for the Small Cap Portfolio over the period 1999-2015 is 11.44%\n"
     ]
    }
   ],
   "source": [
    "annualized_return = (returns['SmallCap']['1999':'2015']+1).prod()**(12/n_months) - 1\n",
    "\n",
    "print('The annualised return for the Small Cap Portfolio over the period 1999-2015 is {}%'.format((annualized_return*100).round(2)))"
   ]
  },
  {
   "cell_type": "code",
   "execution_count": 318,
   "metadata": {},
   "outputs": [],
   "source": [
    "q5_ans = (annualized_return*100).round(2)"
   ]
  },
  {
   "cell_type": "markdown",
   "metadata": {},
   "source": [
    "6. What was the Annualized Volatility of the Lo 20 portfolio over the period 1999 - 2015 (both inclusive)? "
   ]
  },
  {
   "cell_type": "code",
   "execution_count": 319,
   "metadata": {},
   "outputs": [
    {
     "name": "stdout",
     "output_type": "stream",
     "text": [
      "The annualised volatility of the Small Cap Portfolio over the period 1999-2005 is 22.89%\n"
     ]
    }
   ],
   "source": [
    "annualized_vol = returns['SmallCap']['1999':'2015'].std()*np.sqrt(12)\n",
    "\n",
    "print('The annualised volatility of the Small Cap Portfolio over the period 1999-2005 is {}%'.format((annualized_vol*100).round(2)))"
   ]
  },
  {
   "cell_type": "code",
   "execution_count": 320,
   "metadata": {},
   "outputs": [],
   "source": [
    "q6_ans = (annualized_vol*100).round(2)"
   ]
  },
  {
   "cell_type": "markdown",
   "metadata": {},
   "source": [
    "7. What was the Annualized Return of the Hi 20 portfolio over the period  1999 - 2015 (both inclusive)?"
   ]
  },
  {
   "cell_type": "code",
   "execution_count": 321,
   "metadata": {},
   "outputs": [
    {
     "name": "stdout",
     "output_type": "stream",
     "text": [
      "The annualised return for the Large Cap Portfolio over the period 1999-2015 is 6.29%\n"
     ]
    }
   ],
   "source": [
    "annualized_return = (returns['LargeCap']['1999':'2015']+1).prod()**(12/n_months) - 1\n",
    "\n",
    "print('The annualised return for the Large Cap Portfolio over the period 1999-2015 is {}%'.format((annualized_return*100).round(2)))"
   ]
  },
  {
   "cell_type": "code",
   "execution_count": 322,
   "metadata": {},
   "outputs": [],
   "source": [
    "q7_ans = (annualized_return*100).round(2)"
   ]
  },
  {
   "cell_type": "markdown",
   "metadata": {},
   "source": [
    "8. What was the Annualized Volatility of the Hi 20 portfolio over the period 1999 - 2015 (both inclusive)?"
   ]
  },
  {
   "cell_type": "code",
   "execution_count": 323,
   "metadata": {},
   "outputs": [
    {
     "name": "stdout",
     "output_type": "stream",
     "text": [
      "The annualised volatility of the Large Cap Portfolio over the period 1999-2005 is 17.27%\n"
     ]
    }
   ],
   "source": [
    "annualized_vol = returns['LargeCap']['1999':'2015'].std()*np.sqrt(12)\n",
    "\n",
    "print('The annualised volatility of the Large Cap Portfolio over the period 1999-2005 is {}%'.format((annualized_vol*100).round(2)))"
   ]
  },
  {
   "cell_type": "code",
   "execution_count": 324,
   "metadata": {},
   "outputs": [],
   "source": [
    "q8_ans = (annualized_vol*100).round(2)"
   ]
  },
  {
   "cell_type": "markdown",
   "metadata": {},
   "source": [
    "9. What was the Max Drawdown (expressed as a positive number) experienced over the 1999-2015 period in the SmallCap (Lo 20) portfolio?"
   ]
  },
  {
   "cell_type": "code",
   "execution_count": 325,
   "metadata": {},
   "outputs": [],
   "source": [
    "def drawdown(return_series: pd.Series):\n",
    "    \"\"\"Takes a time series of asset returns.\n",
    "       returns a DataFrame with columns for\n",
    "       the wealth index, \n",
    "       the previous peaks, and \n",
    "       the percentage drawdown\n",
    "    \"\"\"\n",
    "    wealth_index = 1000*(1+return_series).cumprod()\n",
    "    previous_peaks = wealth_index.cummax()\n",
    "    drawdowns = (wealth_index - previous_peaks)/previous_peaks\n",
    "    return pd.DataFrame({\"Wealth\": wealth_index, \n",
    "                         \"Previous Peak\": previous_peaks, \n",
    "                         \"Drawdown\": drawdowns})"
   ]
  },
  {
   "cell_type": "code",
   "execution_count": 326,
   "metadata": {},
   "outputs": [
    {
     "name": "stdout",
     "output_type": "stream",
     "text": [
      "The max drawdown for the Small Cap Portfolio over the period 1999 to 2015 is 62.48%\n"
     ]
    }
   ],
   "source": [
    "dd = drawdown(returns['SmallCap']['1999':'2015'])\n",
    "max_drawdown = dd['Drawdown'].min()*-1\n",
    "\n",
    "print('The max drawdown for the Small Cap Portfolio over the period 1999 to 2015 is {}%'.format((max_drawdown*100).round(2)))"
   ]
  },
  {
   "cell_type": "code",
   "execution_count": 327,
   "metadata": {},
   "outputs": [],
   "source": [
    "q9_ans = (max_drawdown*100).round(2)"
   ]
  },
  {
   "cell_type": "markdown",
   "metadata": {},
   "source": [
    "10. At the end of which month over the period 1999-2015 did that maximum drawdown on the SmallCap (Lo 20) portfolio occur? "
   ]
  },
  {
   "cell_type": "code",
   "execution_count": 328,
   "metadata": {},
   "outputs": [
    {
     "name": "stdout",
     "output_type": "stream",
     "text": [
      "The max drawdown occurred in the month 2009-02\n"
     ]
    }
   ],
   "source": [
    "max_drawdown_month = dd[\"Drawdown\"].idxmin()\n",
    "\n",
    "print('The max drawdown occurred in the month {}'.format(max_drawdown_month))"
   ]
  },
  {
   "cell_type": "code",
   "execution_count": 329,
   "metadata": {},
   "outputs": [],
   "source": [
    "q10_ans = max_drawdown_month"
   ]
  },
  {
   "cell_type": "markdown",
   "metadata": {},
   "source": [
    "11. What was the Max Drawdown (expressed as a positive number) experienced over the 1999-2015 period in the LargeCap (Hi 20) portfolio?"
   ]
  },
  {
   "cell_type": "code",
   "execution_count": 330,
   "metadata": {},
   "outputs": [
    {
     "name": "stdout",
     "output_type": "stream",
     "text": [
      "The max drawdown for the Large Cap Portfolio over the period 1999 to 2015 is 55.27%\n"
     ]
    }
   ],
   "source": [
    "dd = drawdown(returns['LargeCap']['1999':'2015'])\n",
    "max_drawdown = dd['Drawdown'].min()*-1\n",
    "\n",
    "print('The max drawdown for the Large Cap Portfolio over the period 1999 to 2015 is {}%'.format((max_drawdown*100).round(2)))"
   ]
  },
  {
   "cell_type": "code",
   "execution_count": 331,
   "metadata": {},
   "outputs": [],
   "source": [
    "q11_ans = (max_drawdown*100).round(2)"
   ]
  },
  {
   "cell_type": "markdown",
   "metadata": {},
   "source": [
    "12. Over the period 1999-2015, at the end of which month did that maximum drawdown of the LargeCap (Hi 20) portfolio occur?"
   ]
  },
  {
   "cell_type": "code",
   "execution_count": 332,
   "metadata": {},
   "outputs": [
    {
     "name": "stdout",
     "output_type": "stream",
     "text": [
      "The max drawdown occurred in the month 2009-02\n"
     ]
    }
   ],
   "source": [
    "max_drawdown_month = dd[\"Drawdown\"].idxmin()\n",
    "\n",
    "print('The max drawdown occurred in the month {}'.format(max_drawdown_month))"
   ]
  },
  {
   "cell_type": "code",
   "execution_count": 333,
   "metadata": {},
   "outputs": [],
   "source": [
    "q12_ans = max_drawdown_month"
   ]
  },
  {
   "cell_type": "markdown",
   "metadata": {},
   "source": [
    "For the remaining questions, use the EDHEC Hedge Fund Indices data set that we used in the lab assignment and load them into Python. "
   ]
  },
  {
   "cell_type": "code",
   "execution_count": 334,
   "metadata": {},
   "outputs": [],
   "source": [
    "hfi = pd.read_csv(\"data/edhec-hedgefundindices.csv\",\n",
    "                      header=0, index_col=0, parse_dates=True)\n",
    "hfi = hfi/100\n",
    "hfi.index = hfi.index.to_period('M')"
   ]
  },
  {
   "cell_type": "markdown",
   "metadata": {},
   "source": [
    "13. Looking at the data since 2009 (including all of 2009) through 2018 which Hedge Fund Index has exhibited the highest semideviation?"
   ]
  },
  {
   "cell_type": "code",
   "execution_count": 335,
   "metadata": {},
   "outputs": [],
   "source": [
    "def semideviation(r):\n",
    "    \"\"\"\n",
    "    Returns the semideviation aka negative semideviation of r\n",
    "    r must be a Series or a DataFrame, else raises a TypeError\n",
    "    \"\"\"\n",
    "    is_negative = r < 0\n",
    "    return r[is_negative].std(ddof=0)"
   ]
  },
  {
   "cell_type": "code",
   "execution_count": 336,
   "metadata": {},
   "outputs": [],
   "source": [
    "sd_hfi = semideviation(hfi['2009':'2018'])"
   ]
  },
  {
   "cell_type": "code",
   "execution_count": 337,
   "metadata": {},
   "outputs": [],
   "source": [
    "q13_ans = sd_hfi.idxmax()"
   ]
  },
  {
   "cell_type": "markdown",
   "metadata": {},
   "source": [
    "14. Looking at the data since 2009 (including all of 2009) which Hedge Fund Index has exhibited the lowest semideviation? "
   ]
  },
  {
   "cell_type": "code",
   "execution_count": 338,
   "metadata": {},
   "outputs": [],
   "source": [
    "q14_ans = sd_hfi.idxmin()"
   ]
  },
  {
   "cell_type": "markdown",
   "metadata": {},
   "source": [
    "15. Looking at the data since 2009 (including all of 2009) which Hedge Fund Index has been most negatively skewed? "
   ]
  },
  {
   "cell_type": "code",
   "execution_count": 339,
   "metadata": {},
   "outputs": [
    {
     "data": {
      "text/plain": [
       "array([ 1.30591093,  0.05206195, -0.25494434,  0.03312287, -0.89632731,\n",
       "       -0.48882095,  1.12145348,  0.34818394, -0.46370341, -0.55106451,\n",
       "        0.15995286,  0.45651822, -0.64690778])"
      ]
     },
     "execution_count": 339,
     "metadata": {},
     "output_type": "execute_result"
    }
   ],
   "source": [
    "import scipy.stats\n",
    "scipy.stats.skew(hfi['2009':'2018'])"
   ]
  },
  {
   "cell_type": "code",
   "execution_count": 340,
   "metadata": {},
   "outputs": [],
   "source": [
    "def skewness(r):\n",
    "    \"\"\"\n",
    "    Alternative to scipy.stats.skew()\n",
    "    Computes the skewness of the supplied Series or DataFrame\n",
    "    Returns a float or a Series\n",
    "    \"\"\"\n",
    "    demeaned_r = r - r.mean()\n",
    "    # use the population standard deviation, so set dof=0\n",
    "    sigma_r = r.std(ddof=0)\n",
    "    exp = (demeaned_r**3).mean()\n",
    "    return exp/sigma_r**3"
   ]
  },
  {
   "cell_type": "code",
   "execution_count": 341,
   "metadata": {},
   "outputs": [],
   "source": [
    "q15_ans = skewness(hfi['2009':'2018']).idxmin()"
   ]
  },
  {
   "cell_type": "markdown",
   "metadata": {},
   "source": [
    "16. Looking at the data since 2000 (including all of 2000) through 2018 which Hedge Fund Index has exhibited the highest kurtosis?"
   ]
  },
  {
   "cell_type": "code",
   "execution_count": 342,
   "metadata": {},
   "outputs": [
    {
     "data": {
      "text/html": [
       "<div>\n",
       "<style scoped>\n",
       "    .dataframe tbody tr th:only-of-type {\n",
       "        vertical-align: middle;\n",
       "    }\n",
       "\n",
       "    .dataframe tbody tr th {\n",
       "        vertical-align: top;\n",
       "    }\n",
       "\n",
       "    .dataframe thead th {\n",
       "        text-align: right;\n",
       "    }\n",
       "</style>\n",
       "<table border=\"1\" class=\"dataframe\">\n",
       "  <thead>\n",
       "    <tr style=\"text-align: right;\">\n",
       "      <th></th>\n",
       "      <th>strategy</th>\n",
       "      <th>kurtosis</th>\n",
       "    </tr>\n",
       "  </thead>\n",
       "  <tbody>\n",
       "    <tr>\n",
       "      <th>0</th>\n",
       "      <td>Convertible Arbitrage</td>\n",
       "      <td>20.280834</td>\n",
       "    </tr>\n",
       "    <tr>\n",
       "      <th>1</th>\n",
       "      <td>CTA Global</td>\n",
       "      <td>-0.047040</td>\n",
       "    </tr>\n",
       "    <tr>\n",
       "      <th>2</th>\n",
       "      <td>Distressed Securities</td>\n",
       "      <td>4.889983</td>\n",
       "    </tr>\n",
       "    <tr>\n",
       "      <th>3</th>\n",
       "      <td>Emerging Markets</td>\n",
       "      <td>6.250788</td>\n",
       "    </tr>\n",
       "    <tr>\n",
       "      <th>4</th>\n",
       "      <td>Equity Market Neutral</td>\n",
       "      <td>14.218555</td>\n",
       "    </tr>\n",
       "    <tr>\n",
       "      <th>5</th>\n",
       "      <td>Event Driven</td>\n",
       "      <td>5.035828</td>\n",
       "    </tr>\n",
       "    <tr>\n",
       "      <th>6</th>\n",
       "      <td>Fixed Income Arbitrage</td>\n",
       "      <td>26.842199</td>\n",
       "    </tr>\n",
       "    <tr>\n",
       "      <th>7</th>\n",
       "      <td>Global Macro</td>\n",
       "      <td>2.741679</td>\n",
       "    </tr>\n",
       "    <tr>\n",
       "      <th>8</th>\n",
       "      <td>Long/Short Equity</td>\n",
       "      <td>1.523893</td>\n",
       "    </tr>\n",
       "    <tr>\n",
       "      <th>9</th>\n",
       "      <td>Merger Arbitrage</td>\n",
       "      <td>5.738950</td>\n",
       "    </tr>\n",
       "    <tr>\n",
       "      <th>10</th>\n",
       "      <td>Relative Value</td>\n",
       "      <td>9.121208</td>\n",
       "    </tr>\n",
       "    <tr>\n",
       "      <th>11</th>\n",
       "      <td>Short Selling</td>\n",
       "      <td>3.117772</td>\n",
       "    </tr>\n",
       "    <tr>\n",
       "      <th>12</th>\n",
       "      <td>Funds Of Funds</td>\n",
       "      <td>4.070153</td>\n",
       "    </tr>\n",
       "  </tbody>\n",
       "</table>\n",
       "</div>"
      ],
      "text/plain": [
       "                  strategy   kurtosis\n",
       "0    Convertible Arbitrage  20.280834\n",
       "1               CTA Global  -0.047040\n",
       "2    Distressed Securities   4.889983\n",
       "3         Emerging Markets   6.250788\n",
       "4    Equity Market Neutral  14.218555\n",
       "5             Event Driven   5.035828\n",
       "6   Fixed Income Arbitrage  26.842199\n",
       "7             Global Macro   2.741679\n",
       "8        Long/Short Equity   1.523893\n",
       "9         Merger Arbitrage   5.738950\n",
       "10          Relative Value   9.121208\n",
       "11           Short Selling   3.117772\n",
       "12          Funds Of Funds   4.070153"
      ]
     },
     "execution_count": 342,
     "metadata": {},
     "output_type": "execute_result"
    }
   ],
   "source": [
    "pd.DataFrame({'strategy':hfi.columns, 'kurtosis':scipy.stats.kurtosis(hfi)})"
   ]
  },
  {
   "cell_type": "code",
   "execution_count": null,
   "metadata": {},
   "outputs": [],
   "source": []
  },
  {
   "cell_type": "code",
   "execution_count": 343,
   "metadata": {},
   "outputs": [],
   "source": [
    "def kurtosis(r):\n",
    "    \"\"\"\n",
    "    Alternative to scipy.stats.kurtosis()\n",
    "    Computes the kurtosis of the supplied Series or DataFrame\n",
    "    Returns a float or a Series\n",
    "    \"\"\"\n",
    "    demeaned_r = r - r.mean()\n",
    "    # use the population standard deviation, so set dof=0\n",
    "    sigma_r = r.std(ddof=0)\n",
    "    exp = (demeaned_r**4).mean()\n",
    "    return exp/sigma_r**4"
   ]
  },
  {
   "cell_type": "code",
   "execution_count": 344,
   "metadata": {},
   "outputs": [],
   "source": [
    "q16_ans = kurtosis(hfi['2009':'2018']).idxmax()"
   ]
  },
  {
   "cell_type": "code",
   "execution_count": 345,
   "metadata": {},
   "outputs": [
    {
     "data": {
      "text/plain": [
       "<bound method Series.sort_values of Convertible Arbitrage     6.775731\n",
       "CTA Global                2.591087\n",
       "Distressed Securities     3.319725\n",
       "Emerging Markets          4.401636\n",
       "Equity Market Neutral     5.071677\n",
       "Event Driven              3.620617\n",
       "Fixed Income Arbitrage    6.406941\n",
       "Global Macro              3.164362\n",
       "Long/Short Equity         4.115713\n",
       "Merger Arbitrage          2.715238\n",
       "Relative Value            4.512482\n",
       "Short Selling             4.175832\n",
       "Funds Of Funds            3.816132\n",
       "dtype: float64>"
      ]
     },
     "execution_count": 345,
     "metadata": {},
     "output_type": "execute_result"
    }
   ],
   "source": [
    "kurtosis(hfi['2009':'2018']).sort_values"
   ]
  },
  {
   "cell_type": "code",
   "execution_count": 346,
   "metadata": {},
   "outputs": [
    {
     "data": {
      "text/html": [
       "<div>\n",
       "<style scoped>\n",
       "    .dataframe tbody tr th:only-of-type {\n",
       "        vertical-align: middle;\n",
       "    }\n",
       "\n",
       "    .dataframe tbody tr th {\n",
       "        vertical-align: top;\n",
       "    }\n",
       "\n",
       "    .dataframe thead th {\n",
       "        text-align: right;\n",
       "    }\n",
       "</style>\n",
       "<table border=\"1\" class=\"dataframe\">\n",
       "  <thead>\n",
       "    <tr style=\"text-align: right;\">\n",
       "      <th></th>\n",
       "      <th>questions</th>\n",
       "      <th>answers</th>\n",
       "    </tr>\n",
       "  </thead>\n",
       "  <tbody>\n",
       "    <tr>\n",
       "      <th>0</th>\n",
       "      <td>1</td>\n",
       "      <td>15.2</td>\n",
       "    </tr>\n",
       "    <tr>\n",
       "      <th>1</th>\n",
       "      <td>2</td>\n",
       "      <td>33.67</td>\n",
       "    </tr>\n",
       "    <tr>\n",
       "      <th>2</th>\n",
       "      <td>3</td>\n",
       "      <td>9.85</td>\n",
       "    </tr>\n",
       "    <tr>\n",
       "      <th>3</th>\n",
       "      <td>4</td>\n",
       "      <td>19.51</td>\n",
       "    </tr>\n",
       "    <tr>\n",
       "      <th>4</th>\n",
       "      <td>5</td>\n",
       "      <td>11.44</td>\n",
       "    </tr>\n",
       "    <tr>\n",
       "      <th>5</th>\n",
       "      <td>6</td>\n",
       "      <td>22.89</td>\n",
       "    </tr>\n",
       "    <tr>\n",
       "      <th>6</th>\n",
       "      <td>7</td>\n",
       "      <td>6.29</td>\n",
       "    </tr>\n",
       "    <tr>\n",
       "      <th>7</th>\n",
       "      <td>8</td>\n",
       "      <td>17.27</td>\n",
       "    </tr>\n",
       "    <tr>\n",
       "      <th>8</th>\n",
       "      <td>9</td>\n",
       "      <td>62.48</td>\n",
       "    </tr>\n",
       "    <tr>\n",
       "      <th>9</th>\n",
       "      <td>10</td>\n",
       "      <td>2009-02</td>\n",
       "    </tr>\n",
       "    <tr>\n",
       "      <th>10</th>\n",
       "      <td>11</td>\n",
       "      <td>55.27</td>\n",
       "    </tr>\n",
       "    <tr>\n",
       "      <th>11</th>\n",
       "      <td>12</td>\n",
       "      <td>2009-02</td>\n",
       "    </tr>\n",
       "    <tr>\n",
       "      <th>12</th>\n",
       "      <td>13</td>\n",
       "      <td>Short Selling</td>\n",
       "    </tr>\n",
       "    <tr>\n",
       "      <th>13</th>\n",
       "      <td>14</td>\n",
       "      <td>Fixed Income Arbitrage</td>\n",
       "    </tr>\n",
       "    <tr>\n",
       "      <th>14</th>\n",
       "      <td>15</td>\n",
       "      <td>Equity Market Neutral</td>\n",
       "    </tr>\n",
       "    <tr>\n",
       "      <th>15</th>\n",
       "      <td>16</td>\n",
       "      <td>Convertible Arbitrage</td>\n",
       "    </tr>\n",
       "  </tbody>\n",
       "</table>\n",
       "</div>"
      ],
      "text/plain": [
       "    questions                 answers\n",
       "0           1                    15.2\n",
       "1           2                   33.67\n",
       "2           3                    9.85\n",
       "3           4                   19.51\n",
       "4           5                   11.44\n",
       "5           6                   22.89\n",
       "6           7                    6.29\n",
       "7           8                   17.27\n",
       "8           9                   62.48\n",
       "9          10                 2009-02\n",
       "10         11                   55.27\n",
       "11         12                 2009-02\n",
       "12         13           Short Selling\n",
       "13         14  Fixed Income Arbitrage\n",
       "14         15   Equity Market Neutral\n",
       "15         16   Convertible Arbitrage"
      ]
     },
     "execution_count": 346,
     "metadata": {},
     "output_type": "execute_result"
    }
   ],
   "source": [
    "pd.DataFrame({'questions':[x for x in range(1,17)], 'answers':[q1_ans, q2_ans, q3_ans, q4_ans, q5_ans, q6_ans, q7_ans, q8_ans,\n",
    "                                             q9_ans, q10_ans, q11_ans, q12_ans, q13_ans, q14_ans, q15_ans, q16_ans]})"
   ]
  },
  {
   "cell_type": "code",
   "execution_count": 299,
   "metadata": {},
   "outputs": [
    {
     "data": {
      "text/plain": [
       "[1, 2, 3, 4, 5, 6, 7, 8, 9, 10, 11, 12, 13, 14, 15, 16]"
      ]
     },
     "execution_count": 299,
     "metadata": {},
     "output_type": "execute_result"
    }
   ],
   "source": []
  },
  {
   "cell_type": "code",
   "execution_count": null,
   "metadata": {},
   "outputs": [],
   "source": []
  }
 ],
 "metadata": {
  "kernelspec": {
   "display_name": "Python 3",
   "language": "python",
   "name": "python3"
  },
  "language_info": {
   "codemirror_mode": {
    "name": "ipython",
    "version": 3
   },
   "file_extension": ".py",
   "mimetype": "text/x-python",
   "name": "python",
   "nbconvert_exporter": "python",
   "pygments_lexer": "ipython3",
   "version": "3.7.3"
  }
 },
 "nbformat": 4,
 "nbformat_minor": 2
}
