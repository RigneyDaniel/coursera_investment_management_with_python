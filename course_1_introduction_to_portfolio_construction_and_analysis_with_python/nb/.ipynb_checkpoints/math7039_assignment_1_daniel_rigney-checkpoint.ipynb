{
 "cells": [
  {
   "cell_type": "markdown",
   "metadata": {},
   "source": [
    "# MATH7039 - Assignement 1\n",
    "## Daniel Rigney"
   ]
  },
  {
   "cell_type": "markdown",
   "metadata": {},
   "source": [
    "## Question 1\n",
    "**It   is   Jan   1   in   2020.   A   person   puts   1000   per   month   (starting   31   Jan)    into   their   superannuation and   earns   6%   interest   (tax   free).   They retire   on   31   Dec   2059.   Assuming   monthly   compounding how   much   do   they   have   in   the   bank   when   they   retire.   Use   the   annuity   formula**. "
   ]
  },
  {
   "cell_type": "markdown",
   "metadata": {},
   "source": [
    "\"$F = \\frac{C}{n}\\left[\\frac{\\left(1+\\frac{y}{n}\\right)^{nT}-1}{\\frac{y}{n}}\\right]$ \n",
    "\n",
    "Where:  \n",
    "$C = 12000$ (1,000 monthly cashflows x 12 month =  annual cashflows)\n",
    "\n",
    "$y = 0.06$ interest rate   \n",
    "\n",
    "$T = 40$ years    \n",
    "\n",
    "$n = 12$ compounded monthly \n",
    "\n",
    "$F=\\frac{12000}{12}\\left[\\frac{\\left(1+\\frac{0.06}{12}\\right)^{12x40}-1}{\\frac{0.06}{12}}\\right]$  \n",
    "\n",
    "$F=1000\\left[\\frac{(1.005)^{480}-1}{0.005}\\right]$\n",
    "\n",
    "$F=1,991,490.73$Dollars Assuming cashflows invested in dollars"
   ]
  },
  {
   "cell_type": "markdown",
   "metadata": {},
   "source": [
    "## Question 2  \n",
    "**(a) Suppose someone is offered a 6000 per month annuity (on 1 Jan 2060) with first payment on 31 Jan 2060 for 20 years. Assuming that the required rate of return is the CPI 3% what is the present value (on 1 Jan 2060) of the annuity.**   "
   ]
  },
  {
   "cell_type": "markdown",
   "metadata": {},
   "source": [
    "$P = \\frac{C}{n} \\left[ \\frac{1 - \\left( 1 + \\frac{y}{n}\\right)^{-nT}}{\\frac{y}{n}} \\right]$ \n",
    "\n",
    "Where:  \n",
    "$C = 72000 $ (6000 monthly cashflows x 12 month = annual cashflows) \n",
    "\n",
    "$y = 0.03$ interest rate   \n",
    "\n",
    "$T =20$ years    \n",
    "\n",
    "$n = 12$ compounded monthly \n",
    "\n",
    "$P = \\frac{72000}{12} \\left[ \\frac{1 - \\left( 1 + \\frac{0.03}{12}\\right)^{-12x20}}{\\frac{0.03}{12}} \\right]$\n",
    "\n",
    "$P = 6000 \\left[ \\frac{1 - \\left(1.0025\\right)^{-240}}{0.0025} \\right]$\n",
    "\n",
    "$P = 1, 081, 865.49$ dollars (Assuming cashflows paid in dollars)"
   ]
  },
  {
   "cell_type": "markdown",
   "metadata": {},
   "source": [
    "**(b) What monthly annuity would the person in Q1 expect to get (in 2060 dollars) using the accumulated value of their superannuation.**"
   ]
  },
  {
   "cell_type": "markdown",
   "metadata": {},
   "source": [
    "$P=\\frac{C}{n}\\left[\\frac{1-\\left(1+\\frac{y}{n}\\right)^{-nT}}{\\frac{y}{n}}\\right]$  \n",
    "\n",
    "$C=Pn\\left[\\frac{\\frac{y}{n}}{ 1-\\left(1+\\frac{y}{n}\\right)^{-nT}}\\right]$\n",
    "\n",
    "Where: \n",
    "\n",
    "$P=1,991,490.73$ dollars - From Question 1 \n",
    "\n",
    "$y=0.03$  \n",
    "\n",
    "$n=12$  \n",
    "\n",
    "$T=20$  \n",
    "\n",
    "$C=1,991,490.73x12\\left[\\frac{\\frac{0.03}{12}}{1-\\left(1+\\frac{0.03}{12}\\right)^{-12x20}}\\right]$\n",
    "\n",
    "$C=132,537.12$ dollars annually  \n",
    "$C=11,044.76$ dollars monthly annuity\n"
   ]
  },
  {
   "cell_type": "markdown",
   "metadata": {},
   "source": [
    "**(c) What is the present value (in 2020) of the monthly annuity in Q2(b) in 2060 and in 2080 assuming a required rate of return equivalent to CPI (assume 3%) compounded annually.**"
   ]
  },
  {
   "cell_type": "code",
   "execution_count": null,
   "metadata": {},
   "outputs": [],
   "source": []
  }
 ],
 "metadata": {
  "kernelspec": {
   "display_name": "Python 3",
   "language": "python",
   "name": "python3"
  },
  "language_info": {
   "codemirror_mode": {
    "name": "ipython",
    "version": 3
   },
   "file_extension": ".py",
   "mimetype": "text/x-python",
   "name": "python",
   "nbconvert_exporter": "python",
   "pygments_lexer": "ipython3",
   "version": "3.7.4"
  }
 },
 "nbformat": 4,
 "nbformat_minor": 4
}
